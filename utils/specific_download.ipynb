{
 "cells": [
  {
   "cell_type": "markdown",
   "metadata": {},
   "source": [
    "# 특정 도로 다운로드"
   ]
  },
  {
   "cell_type": "code",
   "execution_count": 1,
   "metadata": {},
   "outputs": [],
   "source": [
    "# Modules\n",
    "import requests\n",
    "import urllib.request\n",
    "from bs4 import BeautifulSoup\n",
    "\n",
    "import pandas as pd\n",
    "import numpy as np\n",
    "import re\n",
    "\n",
    "from datetime import datetime\n",
    "import os\n",
    "import time"
   ]
  },
  {
   "cell_type": "code",
   "execution_count": 2,
   "metadata": {},
   "outputs": [],
   "source": [
    "def authentication(auth_key, road_type):\n",
    "    if road_type == 'ex':\n",
    "        url = 'http://openapi.its.go.kr:8081/api/NCCTVInfo?key={}&ReqType=2&MinX=120&MaxX=135&MinY=30&MaxY=45&type=ex'.format(auth_key) # 고속도로 url\n",
    "    else:\n",
    "        url = 'http://openapi.its.go.kr:8081/api/NCCTVInfo?key={}&ReqType=2&MinX=120&MaxX=135&MinY=30&MaxY=45&type=its'.format(auth_key) # 국도 url\n",
    "    return url"
   ]
  },
  {
   "cell_type": "code",
   "execution_count": 3,
   "metadata": {},
   "outputs": [],
   "source": [
    "def request_api(url):\n",
    "    req = requests.get(url)\n",
    "    html = req.text\n",
    "    soup = BeautifulSoup(html, 'html.parser')\n",
    "\n",
    "    # cctv 이름 / url / 좌표 데이터프레임\n",
    "    name = [i.text for i in soup.findAll(\"cctvname\")]\n",
    "    url = [i.text for i in soup.findAll(\"cctvurl\")]\n",
    "    coordx = [i.text for i in soup.findAll(\"coordx\")]\n",
    "    coordy = [i.text for i in soup.findAll(\"coordy\")]\n",
    "\n",
    "    cctv_df = pd.DataFrame(data={'name':name, 'url':url, 'coordx':coordx, 'coordy':coordy})\n",
    "    return cctv_df"
   ]
  },
  {
   "cell_type": "code",
   "execution_count": 13,
   "metadata": {},
   "outputs": [],
   "source": [
    "def format_name(cctv_name):\n",
    "    p = re.compile('[\\w\\[\\]]+')\n",
    "    regex_name = re.findall(p, cctv_name)\n",
    "    formatted_name = ''\n",
    "    for i in range(len(regex_name)):\n",
    "        formatted_name += regex_name[i]\n",
    "\n",
    "    now = datetime.now()\n",
    "    formatted_name = '{}_{}_{}'.format(now.strftime('%m%d'), now.strftime('%H%M'), formatted_name)\n",
    "    return formatted_name\n",
    "\n",
    "cctv_df['formatted_name'] = cctv_df['name'].apply(format_name)"
   ]
  },
  {
   "cell_type": "code",
   "execution_count": 6,
   "metadata": {},
   "outputs": [],
   "source": [
    "auth_key = '1560428298105'\n",
    "road_type = 'ex'\n",
    "url = authentication(auth_key, road_type)\n",
    "cctv_df = request_api(url)"
   ]
  },
  {
   "cell_type": "code",
   "execution_count": 24,
   "metadata": {},
   "outputs": [],
   "source": [
    "abnormal_name = '창원분기점'\n",
    "abnormal_cctv = cctv_df[cctv_df['name'].str.contains(abnormal_name)]\n",
    "abnormal_url = abnormal_cctv.iloc[0].loc['url']\n",
    "abnormal_formatted_name = abnormal_cctv.iloc[0].loc['formatted_name']"
   ]
  },
  {
   "cell_type": "code",
   "execution_count": 26,
   "metadata": {},
   "outputs": [],
   "source": [
    "save_path = 'C:/users/yoon/desktop/'\n",
    "download_num = 10\n",
    "sleep_time = 300"
   ]
  },
  {
   "cell_type": "code",
   "execution_count": 27,
   "metadata": {},
   "outputs": [
    {
     "name": "stdout",
     "output_type": "stream",
     "text": [
      "0  다운로드 완료\n",
      "1  다운로드 완료\n",
      "2  다운로드 완료\n"
     ]
    },
    {
     "ename": "KeyboardInterrupt",
     "evalue": "",
     "output_type": "error",
     "traceback": [
      "\u001b[1;31m---------------------------------------------------------------------------\u001b[0m",
      "\u001b[1;31mKeyboardInterrupt\u001b[0m                         Traceback (most recent call last)",
      "\u001b[1;32m<ipython-input-27-87339e477384>\u001b[0m in \u001b[0;36m<module>\u001b[1;34m()\u001b[0m\n\u001b[0;32m      2\u001b[0m     \u001b[0murllib\u001b[0m\u001b[1;33m.\u001b[0m\u001b[0mrequest\u001b[0m\u001b[1;33m.\u001b[0m\u001b[0murlretrieve\u001b[0m\u001b[1;33m(\u001b[0m\u001b[0mabnormal_url\u001b[0m\u001b[1;33m,\u001b[0m \u001b[0mos\u001b[0m\u001b[1;33m.\u001b[0m\u001b[0mpath\u001b[0m\u001b[1;33m.\u001b[0m\u001b[0mjoin\u001b[0m\u001b[1;33m(\u001b[0m\u001b[0msave_path\u001b[0m\u001b[1;33m,\u001b[0m \u001b[1;34m'{}.mp4'\u001b[0m\u001b[1;33m.\u001b[0m\u001b[0mformat\u001b[0m\u001b[1;33m(\u001b[0m\u001b[0mabnormal_formatted_name\u001b[0m\u001b[1;33m)\u001b[0m\u001b[1;33m)\u001b[0m\u001b[1;33m)\u001b[0m\u001b[1;33m\u001b[0m\u001b[0m\n\u001b[0;32m      3\u001b[0m     \u001b[0mprint\u001b[0m\u001b[1;33m(\u001b[0m\u001b[0mi\u001b[0m\u001b[1;33m,\u001b[0m \u001b[1;34m' 다운로드 완료'\u001b[0m\u001b[1;33m)\u001b[0m\u001b[1;33m\u001b[0m\u001b[0m\n\u001b[1;32m----> 4\u001b[1;33m     \u001b[0mtime\u001b[0m\u001b[1;33m.\u001b[0m\u001b[0msleep\u001b[0m\u001b[1;33m(\u001b[0m\u001b[0msleep_time\u001b[0m\u001b[1;33m)\u001b[0m\u001b[1;33m\u001b[0m\u001b[0m\n\u001b[0m",
      "\u001b[1;31mKeyboardInterrupt\u001b[0m: "
     ]
    }
   ],
   "source": [
    "for i in range(download_num):\n",
    "    urllib.request.urlretrieve(abnormal_url, os.path.join(save_path, '{}.mp4'.format(abnormal_formatted_name)))\n",
    "    print(i, ' 다운로드 완료')\n",
    "    time.sleep(sleep_time)"
   ]
  },
  {
   "cell_type": "code",
   "execution_count": null,
   "metadata": {},
   "outputs": [],
   "source": []
  }
 ],
 "metadata": {
  "kernelspec": {
   "display_name": "Python 3",
   "language": "python",
   "name": "python3"
  }
 },
 "nbformat": 4,
 "nbformat_minor": 2
}
