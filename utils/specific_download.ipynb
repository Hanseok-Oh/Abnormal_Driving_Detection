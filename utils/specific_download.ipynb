{
 "cells": [
  {
   "cell_type": "markdown",
   "metadata": {},
   "source": [
    "# 특정 도로 다운로드"
   ]
  },
  {
   "cell_type": "code",
   "execution_count": 28,
   "metadata": {},
   "outputs": [],
   "source": [
    "# Modules\n",
    "import requests\n",
    "import urllib.request\n",
    "from bs4 import BeautifulSoup\n",
    "\n",
    "import pandas as pd\n",
    "import numpy as np\n",
    "import re\n",
    "\n",
    "from datetime import datetime\n",
    "import os\n",
    "import time"
   ]
  },
  {
   "cell_type": "code",
   "execution_count": 7,
   "metadata": {},
   "outputs": [],
   "source": [
    "def authentication(auth_key, road_type):\n",
    "    if road_type == 'ex':\n",
    "        url = 'http://openapi.its.go.kr:8081/api/NCCTVInfo?key={}&ReqType=2&MinX=120&MaxX=135&MinY=30&MaxY=45&type=ex'.format(auth_key) # 고속도로 url\n",
    "    else:\n",
    "        url = 'http://openapi.its.go.kr:8081/api/NCCTVInfo?key={}&ReqType=2&MinX=120&MaxX=135&MinY=30&MaxY=45&type=its'.format(auth_key) # 국도 url\n",
    "    return url"
   ]
  },
  {
   "cell_type": "code",
   "execution_count": 8,
   "metadata": {},
   "outputs": [],
   "source": [
    "def request_api(url):\n",
    "    req = requests.get(url)\n",
    "    html = req.text\n",
    "    soup = BeautifulSoup(html, 'html.parser')\n",
    "\n",
    "    # cctv 이름 / url / 좌표 데이터프레임\n",
    "    name = [i.text for i in soup.findAll(\"cctvname\")]\n",
    "    url = [i.text for i in soup.findAll(\"cctvurl\")]\n",
    "    coordx = [i.text for i in soup.findAll(\"coordx\")]\n",
    "    coordy = [i.text for i in soup.findAll(\"coordy\")]\n",
    "\n",
    "    cctv_df = pd.DataFrame(data={'name':name, 'url':url, 'coordx':coordx, 'coordy':coordy})\n",
    "    return cctv_df"
   ]
  },
  {
   "cell_type": "code",
   "execution_count": null,
   "metadata": {},
   "outputs": [],
   "source": [
    "def format_name(cctv_name):\n",
    "    p = re.compile('[\\w\\[\\]]+')\n",
    "    regex_name = re.findall(p, cctv_name)\n",
    "    formatted_name = ''\n",
    "    for i in range(len(regex_name)):\n",
    "        formatted_name += regex_name[i]\n",
    "\n",
    "    now = datetime.now()\n",
    "    formatted_name = '{}_{}_{}'.format(formatted_name, now.strftime('%m%d'), now.strftime('%H%M'))\n",
    "    return formatted_name"
   ]
  },
  {
   "cell_type": "code",
   "execution_count": 9,
   "metadata": {},
   "outputs": [],
   "source": [
    "auth_key = '1560428298105'\n",
    "road_type = 'ex'\n",
    "url = authentication(auth_key, road_type)\n",
    "cctv_df = request_api(url)"
   ]
  },
  {
   "cell_type": "code",
   "execution_count": 26,
   "metadata": {},
   "outputs": [],
   "source": [
    "abnormal_name = '창원분기점'\n",
    "abnormal_cctv = cctv_df[cctv_df['name'].str.contains(abnormal_name)]\n",
    "abnormal_url = abnormal_cctv.iloc[0].loc['url']"
   ]
  },
  {
   "cell_type": "code",
   "execution_count": 33,
   "metadata": {},
   "outputs": [],
   "source": [
    "save_path = 'C:/users/yoon/desktop/temp/이상주행/normal/'\n",
    "download_num = 10\n",
    "sleep_time = 300"
   ]
  },
  {
   "cell_type": "code",
   "execution_count": null,
   "metadata": {},
   "outputs": [
    {
     "name": "stdout",
     "output_type": "stream",
     "text": [
      "0  다운로드 완료\n",
      "1  다운로드 완료\n",
      "2  다운로드 완료\n",
      "3  다운로드 완료\n",
      "4  다운로드 완료\n",
      "5  다운로드 완료\n"
     ]
    }
   ],
   "source": [
    "for i in range(download_num):\n",
    "    urllib.request.urlretrieve(abnormal_url, os.path.join(save_path, '{}_{}.mp4'.format(abnormal_name, i)))\n",
    "    print(i, ' 다운로드 완료')\n",
    "    time.sleep(sleep_time)"
   ]
  },
  {
   "cell_type": "code",
   "execution_count": null,
   "metadata": {},
   "outputs": [],
   "source": []
  }
 ],
 "metadata": {
  "kernelspec": {
   "display_name": "Python 3",
   "language": "python",
   "name": "python3"
  },
  "language_info": {
   "codemirror_mode": {
    "name": "ipython",
    "version": 3
   },
   "file_extension": ".py",
   "mimetype": "text/x-python",
   "name": "python",
   "nbconvert_exporter": "python",
   "pygments_lexer": "ipython3",
   "version": "3.6.5"
  }
 },
 "nbformat": 4,
 "nbformat_minor": 2
}
